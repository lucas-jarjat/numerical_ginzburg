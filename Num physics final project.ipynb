{
 "cells": [
  {
   "cell_type": "code",
   "execution_count": 13,
   "metadata": {
    "collapsed": true
   },
   "outputs": [],
   "source": [
    "from math import *\n",
    "import numpy as np\n",
    "import matplotlib.pyplot as plt"
   ]
  },
  {
   "cell_type": "markdown",
   "metadata": {},
   "source": [
    "## Numerical Ginzburg : vortices\n"
   ]
  },
  {
   "cell_type": "markdown",
   "metadata": {},
   "source": [
    "Part 1 : Resolution by time-stepping\n",
    "\n",
    "\n",
    "L'équation complète de Ginzburg-Landau_Schrödinger est :\n",
    "\\begin{equation}\n",
    "    (\\alpha - i\\beta) \\partial_t \\Psi(x,t) = \\Delta \\Psi + \\frac{1}{\\epsilon^2}[V(x,t)-|\\Psi|^2] \\Psi\n",
    "\\end{equation}\n",
    "\n",
    "qui se réduit dans notre cas, en prenant $\\beta = 0$, $\\alpha=1$ et $V(x,t)=1$, à :\n",
    "\\begin{equation}\n",
    "    \n",
    "\\end{equation}\n",
    "Les équations sont $\\left\\{\n",
    "\\begin{align}\n",
    "    & \\alpha \\frac{\\partial \\Psi}{\\partial t} = \\Delta \\Psi \\\\\n",
    "    & \\alpha \\frac{\\partial \\Psi}{\\partial t} = \\frac{1}{\\epsilon^2}[1-|\\Psi|^2] \\Psi\n",
    "\\end{align}\n",
    "\\right.$\n",
    "\n",
    "La deuxième équation est analytique, et, en imposant la condition initiale $\\Psi(x,t_n) = \\Psi_0(x)$, on obtient la solution suivante :\n",
    "$\\Psi(x,t\\geq t_n) = \\Psi_0(x) \\frac{1}{\\sqrt{|\\Psi_0|^2+(1-|\\Psi_0|^2)\\exp(-\\frac{2}{\\alpha\\epsilon^2}(t-t_n))}}$"
   ]
  },
  {
   "cell_type": "markdown",
   "metadata": {},
   "source": [
    "On définit des points fantômes en bordure notre système 2D, qui servent à imposer des BC sans sacrifier en résolution sur le système réel."
   ]
  },
  {
   "cell_type": "code",
   "execution_count": null,
   "metadata": {
    "collapsed": true
   },
   "outputs": [],
   "source": [
    "Nx = 100\n",
    "Ny = 300\n",
    "hx = 0.1 #pas spatial selon x\n",
    "hy = 0.1 #pas spatial selon y\n",
    "alpha = 1\n",
    "epsilon = 1"
   ]
  },
  {
   "cell_type": "code",
   "execution_count": null,
   "metadata": {
    "collapsed": true
   },
   "outputs": [],
   "source": [
    "def map(i,j):#renvoie l'indice du point (i,j) dans le vecteur V\n",
    "    return i*Nx+j\n",
    "\n",
    "def map_inv(k):#renvoie (i,j)\n",
    "    return divmod(k,Nx)\n",
    "\n",
    "def sur_le_bord(k):#k est l'indice du point dans le vecteur V\n",
    "    i,j = map_inv(k)\n",
    "    res = (i==0 or i==Nx+2 or j==0 or j==Ny+2)#+2 points dans chaque dimensin puisque ajout de points fantômes"
   ]
  },
  {
   "cell_type": "code",
   "execution_count": null,
   "metadata": {
    "collapsed": true
   },
   "outputs": [],
   "source": [
    "def time_step_2(dt):#psi est la fonction en un point (i,j). le renvoie au temps t+dt, avec évolution régie par (2.2)\n",
    "    def f(psi):\n",
    "        return psi*1/np.sqrt(np.abs(psi)**2+(1-np.abs(psi)**2)*exp(-2/(alpha*epsilon**2)*dt))\n",
    "    return f"
   ]
  },
  {
   "cell_type": "code",
   "execution_count": null,
   "metadata": {
    "collapsed": true
   },
   "outputs": [],
   "source": [
    "def time_step_2_vecteur(V,dt):\n",
    "    f = time_step_2(dt)\n",
    "    M = np.vectorize(f)(V)\n",
    "    return M"
   ]
  },
  {
   "cell_type": "code",
   "execution_count": 1,
   "metadata": {
    "collapsed": true
   },
   "outputs": [],
   "source": [
    "def evolution_temporelle(T,dt):\n",
    "    "
   ]
  },
  {
   "cell_type": "code",
   "execution_count": 5,
   "metadata": {},
   "outputs": [],
   "source": [
    "b=a[2]"
   ]
  },
  {
   "cell_type": "code",
   "execution_count": 6,
   "metadata": {},
   "outputs": [
    {
     "data": {
      "text/plain": [
       "3"
      ]
     },
     "execution_count": 6,
     "metadata": {},
     "output_type": "execute_result"
    }
   ],
   "source": [
    "b"
   ]
  },
  {
   "cell_type": "code",
   "execution_count": 7,
   "metadata": {},
   "outputs": [],
   "source": [
    "a[2]=4"
   ]
  },
  {
   "cell_type": "code",
   "execution_count": 15,
   "metadata": {},
   "outputs": [],
   "source": [
    "b = 1+1j"
   ]
  },
  {
   "cell_type": "code",
   "execution_count": 16,
   "metadata": {},
   "outputs": [
    {
     "data": {
      "text/plain": [
       "(1+1j)"
      ]
     },
     "execution_count": 16,
     "metadata": {},
     "output_type": "execute_result"
    }
   ],
   "source": [
    "b"
   ]
  },
  {
   "cell_type": "code",
   "execution_count": 17,
   "metadata": {},
   "outputs": [
    {
     "data": {
      "text/plain": [
       "1.4142135623730951"
      ]
     },
     "execution_count": 17,
     "metadata": {},
     "output_type": "execute_result"
    }
   ],
   "source": [
    "np.abs(b)"
   ]
  },
  {
   "cell_type": "code",
   "execution_count": null,
   "metadata": {
    "collapsed": true
   },
   "outputs": [],
   "source": []
  }
 ],
 "metadata": {
  "kernelspec": {
   "display_name": "Python 3",
   "language": "python",
   "name": "python3"
  },
  "language_info": {
   "codemirror_mode": {
    "name": "ipython",
    "version": 3
   },
   "file_extension": ".py",
   "mimetype": "text/x-python",
   "name": "python",
   "nbconvert_exporter": "python",
   "pygments_lexer": "ipython3",
   "version": "3.6.3"
  }
 },
 "nbformat": 4,
 "nbformat_minor": 2
}
